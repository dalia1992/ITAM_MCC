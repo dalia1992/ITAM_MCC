{
 "cells": [
  {
   "cell_type": "code",
   "execution_count": null,
   "metadata": {},
   "outputs": [],
   "source": [
    "# How to use collections.deque as a FIFO queue:\n",
    "\n",
    "from collections import deque\n",
    "q = deque()\n",
    "\n",
    "q.append('eat')\n",
    "q.append('sleep')\n",
    "q.append('code')\n",
    "\n",
    ">>> q\n",
    "deque(['eat', 'sleep', 'code'])\n",
    "\n",
    ">>> q.popleft()\n",
    "'eat'\n",
    ">>> q.popleft()\n",
    "'sleep'\n",
    ">>> q.popleft()\n",
    "'code'"
   ]
  }
 ],
 "metadata": {
  "kernelspec": {
   "display_name": "Python 3",
   "language": "python",
   "name": "python3"
  },
  "language_info": {
   "codemirror_mode": {
    "name": "ipython",
    "version": 3
   },
   "file_extension": ".py",
   "mimetype": "text/x-python",
   "name": "python",
   "nbconvert_exporter": "python",
   "pygments_lexer": "ipython3",
   "version": "3.5.5"
  }
 },
 "nbformat": 4,
 "nbformat_minor": 2
}

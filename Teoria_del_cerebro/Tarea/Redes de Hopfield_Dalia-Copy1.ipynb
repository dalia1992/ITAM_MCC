{
 "cells": [
  {
   "cell_type": "markdown",
   "metadata": {},
   "source": [
    "# Redes de Hopfield\n",
    "Dalia Camacho"
   ]
  },
  {
   "cell_type": "code",
   "execution_count": 1,
   "metadata": {},
   "outputs": [],
   "source": [
    "import numpy as np;\n",
    "import matplotlib.pyplot as plt;\n",
    "import matplotlib.cm as cm;\n",
    "import random;\n",
    "random.seed(48597);"
   ]
  },
  {
   "cell_type": "markdown",
   "metadata": {},
   "source": [
    "Definimos una matriz con los valores de la imagen que vamos utilizar para probar las redes de Hopfield como memoria asociativa. "
   ]
  },
  {
   "cell_type": "code",
   "execution_count": 2,
   "metadata": {},
   "outputs": [],
   "source": [
    "#Matriz con los valores que generan la imagen.\n",
    "IMG = np.array([[0,1,1,0,0,1,1,1,0,1,0,0,0,1,1,1,0,1,1,1],\n",
    "                [0,1,0,1,0,1,0,1,0,1,0,0,0,0,1,0,0,1,0,1],\n",
    "                [0,1,0,1,0,1,1,1,0,1,0,0,0,0,1,0,0,1,1,1],\n",
    "                [0,1,1,0,0,1,0,1,0,1,1,1,0,1,1,1,0,1,0,1]\n",
    "               ]);"
   ]
  },
  {
   "cell_type": "markdown",
   "metadata": {},
   "source": [
    "Ahora graficamos la imagen inicial."
   ]
  },
  {
   "cell_type": "code",
   "execution_count": 3,
   "metadata": {},
   "outputs": [
    {
     "data": {
      "image/png": "[encoded data removed]",
      "text/plain": [
       "<Figure size 432x288 with 1 Axes>"
      ]
     },
     "metadata": {
      "needs_background": "light"
     },
     "output_type": "display_data"
    }
   ],
   "source": [
    "fig = plt.figure();\n",
    "ax1 = fig.add_subplot(121);\n",
    "ax1.imshow(IMG, cmap=cm.Greys_r);"
   ]
  },
  {
   "cell_type": "markdown",
   "metadata": {},
   "source": [
    "Ahora convertimos la matriz en un vector."
   ]
  },
  {
   "cell_type": "code",
   "execution_count": 4,
   "metadata": {},
   "outputs": [],
   "source": [
    "IMG_vec = np.array(IMG).flatten();"
   ]
  },
  {
   "cell_type": "markdown",
   "metadata": {},
   "source": [
    "Generamos los pesos con los que se calcula la energía de la red. La energía de la red se define como: $-\\sum_{i<j}s_i\\cdot s_j \\cdot w_{ij}$. Los pesos que definimos minimizan la energía de la red y se construyen como $w_{ij}=w_{ji}= 4(s_i-\\frac{1}{2})\\cdot (s_j-\\frac{1}{2})$, donde $s$ es el vector que contiene todas las entradas de la matriz original. "
   ]
  },
  {
   "cell_type": "code",
   "execution_count": 5,
   "metadata": {},
   "outputs": [
    {
     "data": {
      "text/plain": [
       "array([[ 0., -1., -1., ..., -1.,  1., -1.],\n",
       "       [-1.,  0.,  1., ...,  1., -1.,  1.],\n",
       "       [-1.,  1.,  0., ...,  1., -1.,  1.],\n",
       "       ...,\n",
       "       [-1.,  1.,  1., ...,  0., -1.,  1.],\n",
       "       [ 1., -1., -1., ..., -1.,  0., -1.],\n",
       "       [-1.,  1.,  1., ...,  1., -1.,  0.]])"
      ]
     },
     "execution_count": 5,
     "metadata": {},
     "output_type": "execute_result"
    }
   ],
   "source": [
    "Weights = np.zeros((80,80));\n",
    "for i in range(0,79):\n",
    "    for j in range (i+1,80):\n",
    "        Weights[i,j] = 4.*(IMG_vec[i]-1/2)*(IMG_vec[j]-1/2);\n",
    "        Weights[j,i] = Weights[i,j];\n",
    "        \n",
    "        \n",
    "Weights "
   ]
  },
  {
   "cell_type": "markdown",
   "metadata": {},
   "source": [
    "Ahora definimos las funciones Efun y DeltaEi. Efun calcula la energía de la red para una configuración $s$, pesos $w$ y número de entradas $n$. Con DeltaEi se obtiene la diferencia de la energía en la red cuando una entrada toma valor $0$ o $1$."
   ]
  },
  {
   "cell_type": "code",
   "execution_count": 6,
   "metadata": {},
   "outputs": [],
   "source": [
    "def Efun(s,w, n):\n",
    "    suma = 0;\n",
    "    for i in range(0,n-1):\n",
    "        for j in range (i+1,n):\n",
    "            suma = suma + s[i]*s[j]*w[i,j];\n",
    "    return -suma;\n",
    "\n",
    "def DeltaEi(s,w,n,i):\n",
    "    suma = 0;\n",
    "    for j in range(1,n):\n",
    "        suma = suma + s[j]*w[i,j];\n",
    "    return suma;"
   ]
  },
  {
   "cell_type": "markdown",
   "metadata": {},
   "source": [
    "La función learn modifica las entradas del vector $s$ de tal forma que la energía de la red disminuye. El proceso termina cuando ya no hay cambios en las entradas de $s$ o bien cuando se llega a un número máximo de iteraciones en el proceso."
   ]
  },
  {
   "cell_type": "code",
   "execution_count": 7,
   "metadata": {},
   "outputs": [],
   "source": [
    "def learn(s,w,n, MaxLoops):\n",
    "    Loops    = 0;\n",
    "    change   = True;\n",
    "    while(Loops < MaxLoops and change==True):\n",
    "        change = False;\n",
    "        for i in range(0,n):\n",
    "            Delta = DeltaEi(s,w,n,i);\n",
    "            if (Delta > 0 and s[i] == 0):\n",
    "                s[i]   = 1;\n",
    "                change = True;\n",
    "            if (Delta < 0 and s[i]==1):\n",
    "                s[i]   = 0;\n",
    "                change = True;\n",
    "        Loops = Loops + 1;\n",
    "    return s, change, Loops"
   ]
  },
  {
   "cell_type": "markdown",
   "metadata": {},
   "source": [
    "La función Alter_IMG toma la imagen original, número de filas y columnas y la proporción de entradas que serán modificadas escrito como porcentaje. De forma aleatoria se eligen las entradas que van a ser modificadas y si son cero se les da un uno y viceversa."
   ]
  },
  {
   "cell_type": "code",
   "execution_count": 8,
   "metadata": {},
   "outputs": [],
   "source": [
    "def Alter_IMG(IMG,mrow,ncol,perc):\n",
    "    n       = mrow*ncol;\n",
    "    changes = int(np.floor(n*perc/100));\n",
    "    which_rows =  np.random.choice(mrow, changes);\n",
    "    which_cols =  np.random.choice(ncol, changes);    \n",
    "    for i in range(0, changes):\n",
    "        if IMG[which_rows[i], which_cols[i]]==0:\n",
    "            IMG[which_rows[i], which_cols[i]]=1;\n",
    "        else:\n",
    "            IMG[which_rows[i], which_cols[i]]=0;\n",
    "    return IMG;"
   ]
  },
  {
   "cell_type": "markdown",
   "metadata": {},
   "source": [
    "### Cambiar 10% de las entradas"
   ]
  },
  {
   "cell_type": "markdown",
   "metadata": {},
   "source": [
    "Cambiamos 10% de las entradas de la matriz con la que se generó la matriz de pesos."
   ]
  },
  {
   "cell_type": "code",
   "execution_count": 9,
   "metadata": {},
   "outputs": [
    {
     "data": {
      "image/png": "[encoded data removed]",
      "text/plain": [
       "<Figure size 432x288 with 1 Axes>"
      ]
     },
     "metadata": {
      "needs_background": "light"
     },
     "output_type": "display_data"
    }
   ],
   "source": [
    "IMG2 = Alter_IMG(IMG,4,20,10);\n",
    "fig  = plt.figure();\n",
    "ax1  = fig.add_subplot(121);\n",
    "ax1.imshow(IMG2, cmap=cm.Greys_r);"
   ]
  },
  {
   "cell_type": "markdown",
   "metadata": {},
   "source": [
    "Convertimos la matriz en vector y le aplicamos la función learn."
   ]
  },
  {
   "cell_type": "code",
   "execution_count": 10,
   "metadata": {},
   "outputs": [
    {
     "name": "stdout",
     "output_type": "stream",
     "text": [
      "2 loops needed.\n"
     ]
    }
   ],
   "source": [
    "IMG2_vec    = np.array(IMG2).flatten();\n",
    "IMG2_recall = learn(IMG2_vec, Weights,80,10);\n",
    "print(IMG2_recall[2], \"loops needed.\");"
   ]
  },
  {
   "cell_type": "markdown",
   "metadata": {},
   "source": [
    "Ahora convertimos el vector en matriz y mostramos la imagen."
   ]
  },
  {
   "cell_type": "code",
   "execution_count": 11,
   "metadata": {},
   "outputs": [],
   "source": [
    "Recall=IMG2_recall[0].reshape(4,20);"
   ]
  },
  {
   "cell_type": "code",
   "execution_count": 12,
   "metadata": {},
   "outputs": [
    {
     "data": {
      "image/png": "[encoded data removed]",
      "text/plain": [
       "<Figure size 432x288 with 1 Axes>"
      ]
     },
     "metadata": {
      "needs_background": "light"
     },
     "output_type": "display_data"
    }
   ],
   "source": [
    "fig = plt.figure();\n",
    "ax1 = fig.add_subplot(121);\n",
    "ax1.imshow(Recall, cmap=cm.Greys_r);"
   ]
  },
  {
   "cell_type": "markdown",
   "metadata": {},
   "source": [
    "Podemos observar que se logra reproducir el patrón inicial."
   ]
  },
  {
   "cell_type": "markdown",
   "metadata": {},
   "source": [
    "### Cambiar 25% de las entradas"
   ]
  },
  {
   "cell_type": "markdown",
   "metadata": {},
   "source": [
    "Ahora cambiamos 25% de las entradas de la matriz con la que se generó la matriz de pesos."
   ]
  },
  {
   "cell_type": "code",
   "execution_count": 13,
   "metadata": {},
   "outputs": [
    {
     "data": {
      "image/png": "[encoded data removed]",
      "text/plain": [
       "<Figure size 432x288 with 1 Axes>"
      ]
     },
     "metadata": {
      "needs_background": "light"
     },
     "output_type": "display_data"
    }
   ],
   "source": [
    "IMG2 =Alter_IMG(IMG,4,20,25);\n",
    "fig = plt.figure();\n",
    "ax1 = fig.add_subplot(121);\n",
    "ax1.imshow(IMG2, cmap=cm.Greys_r);"
   ]
  },
  {
   "cell_type": "markdown",
   "metadata": {},
   "source": [
    "Convertimos la matriz en vector y le aplicamos la función learn."
   ]
  },
  {
   "cell_type": "code",
   "execution_count": 14,
   "metadata": {},
   "outputs": [
    {
     "name": "stdout",
     "output_type": "stream",
     "text": [
      "2 loops needed.\n"
     ]
    }
   ],
   "source": [
    "IMG2_vec = np.array(IMG2).flatten();\n",
    "IMG2_recall =learn(IMG2_vec, Weights,80,10)\n",
    "print(IMG2_recall[2], \"loops needed.\")"
   ]
  },
  {
   "cell_type": "markdown",
   "metadata": {},
   "source": [
    "Ahora convertimos el vector en matriz y mostramos la imagen."
   ]
  },
  {
   "cell_type": "code",
   "execution_count": 15,
   "metadata": {},
   "outputs": [],
   "source": [
    "Recall=IMG2_recall[0].reshape(4,20);"
   ]
  },
  {
   "cell_type": "code",
   "execution_count": 16,
   "metadata": {},
   "outputs": [
    {
     "data": {
      "image/png": "[encoded data removed]",
      "text/plain": [
       "<Figure size 432x288 with 1 Axes>"
      ]
     },
     "metadata": {
      "needs_background": "light"
     },
     "output_type": "display_data"
    }
   ],
   "source": [
    "fig = plt.figure();\n",
    "ax1 = fig.add_subplot(121);\n",
    "ax1.imshow(Recall, cmap=cm.Greys_r);"
   ]
  },
  {
   "cell_type": "markdown",
   "metadata": {},
   "source": [
    "Nuevamente se logra reproducir el patrón inicial."
   ]
  },
  {
   "cell_type": "markdown",
   "metadata": {},
   "source": [
    "### Cambiar 50% de las entradas"
   ]
  },
  {
   "cell_type": "markdown",
   "metadata": {},
   "source": [
    "Ahora cambiamos 50% de las entradas de la matriz con la que se generó la matriz de pesos."
   ]
  },
  {
   "cell_type": "code",
   "execution_count": 17,
   "metadata": {},
   "outputs": [
    {
     "data": {
      "image/png": "[encoded data removed]",
      "text/plain": [
       "<Figure size 432x288 with 1 Axes>"
      ]
     },
     "metadata": {
      "needs_background": "light"
     },
     "output_type": "display_data"
    }
   ],
   "source": [
    "IMG2 =Alter_IMG(IMG,4,20,50);\n",
    "fig = plt.figure();\n",
    "ax1 = fig.add_subplot(121);\n",
    "ax1.imshow(IMG2, cmap=cm.Greys_r);"
   ]
  },
  {
   "cell_type": "markdown",
   "metadata": {},
   "source": [
    "Convertimos la matriz en vector y le aplicamos la función learn."
   ]
  },
  {
   "cell_type": "code",
   "execution_count": 18,
   "metadata": {},
   "outputs": [
    {
     "name": "stdout",
     "output_type": "stream",
     "text": [
      "2 loops needed.\n"
     ]
    }
   ],
   "source": [
    "IMG2_vec = np.array(IMG2).flatten();\n",
    "IMG2_recall =learn(IMG2_vec, Weights,80,10)\n",
    "print(IMG2_recall[2], \"loops needed.\")"
   ]
  },
  {
   "cell_type": "markdown",
   "metadata": {},
   "source": [
    "Ahora convertimos el vector en matriz y mostramos la imagen."
   ]
  },
  {
   "cell_type": "code",
   "execution_count": 19,
   "metadata": {},
   "outputs": [],
   "source": [
    "Recall=IMG2_recall[0].reshape(4,20);"
   ]
  },
  {
   "cell_type": "code",
   "execution_count": 20,
   "metadata": {},
   "outputs": [
    {
     "data": {
      "image/png": "[encoded data removed]",
      "text/plain": [
       "<Figure size 432x288 with 1 Axes>"
      ]
     },
     "metadata": {
      "needs_background": "light"
     },
     "output_type": "display_data"
    }
   ],
   "source": [
    "fig = plt.figure();\n",
    "ax1 = fig.add_subplot(121);\n",
    "ax1.imshow(Recall, cmap=cm.Greys_r);"
   ]
  },
  {
   "cell_type": "markdown",
   "metadata": {},
   "source": [
    "Nuevamente se logra reproducir el patrón inicial."
   ]
  },
  {
   "cell_type": "markdown",
   "metadata": {},
   "source": [
    "### Cambiar 75% de las entradas"
   ]
  },
  {
   "cell_type": "markdown",
   "metadata": {},
   "source": [
    "Ahora cambiamos 75% de las entradas de la matriz con la que se generó la matriz de pesos."
   ]
  },
  {
   "cell_type": "code",
   "execution_count": 21,
   "metadata": {},
   "outputs": [
    {
     "data": {
      "image/png": "[encoded data removed]",
      "text/plain": [
       "<Figure size 432x288 with 1 Axes>"
      ]
     },
     "metadata": {
      "needs_background": "light"
     },
     "output_type": "display_data"
    }
   ],
   "source": [
    "IMG2 =Alter_IMG(IMG,4,20,75);\n",
    "fig = plt.figure();\n",
    "ax1 = fig.add_subplot(121);\n",
    "ax1.imshow(IMG2, cmap=cm.Greys_r);"
   ]
  },
  {
   "cell_type": "markdown",
   "metadata": {},
   "source": [
    "Convertimos la matriz en vector y le aplicamos la función learn."
   ]
  },
  {
   "cell_type": "code",
   "execution_count": 22,
   "metadata": {},
   "outputs": [
    {
     "name": "stdout",
     "output_type": "stream",
     "text": [
      "3 loops needed.\n"
     ]
    }
   ],
   "source": [
    "IMG2_vec = np.array(IMG2).flatten();\n",
    "IMG2_recall =learn(IMG2_vec, Weights,80,10);\n",
    "print(IMG2_recall[2], \"loops needed.\")"
   ]
  },
  {
   "cell_type": "markdown",
   "metadata": {},
   "source": [
    "Ahora convertimos el vector en matriz y mostramos la imagen."
   ]
  },
  {
   "cell_type": "code",
   "execution_count": 23,
   "metadata": {},
   "outputs": [],
   "source": [
    "Recall=IMG2_recall[0].reshape(4,20);"
   ]
  },
  {
   "cell_type": "code",
   "execution_count": 24,
   "metadata": {},
   "outputs": [
    {
     "data": {
      "image/png": "[encoded data removed]",
      "text/plain": [
       "<Figure size 432x288 with 1 Axes>"
      ]
     },
     "metadata": {
      "needs_background": "light"
     },
     "output_type": "display_data"
    }
   ],
   "source": [
    "fig = plt.figure();\n",
    "ax1 = fig.add_subplot(121);\n",
    "ax1.imshow(Recall, cmap=cm.Greys_r);"
   ]
  },
  {
   "cell_type": "markdown",
   "metadata": {},
   "source": [
    "En este caso se obtuvo el patrón inverso (los ceros como unos y los unos como ceros)."
   ]
  },
  {
   "cell_type": "markdown",
   "metadata": {},
   "source": [
    "### Cambiar 90% de las entradas"
   ]
  },
  {
   "cell_type": "markdown",
   "metadata": {},
   "source": [
    "Ahora cambiamos 90% de las entradas de la matriz con la que se generó la matriz de pesos."
   ]
  },
  {
   "cell_type": "code",
   "execution_count": 25,
   "metadata": {},
   "outputs": [
    {
     "data": {
      "image/png": "[encoded data removed]",
      "text/plain": [
       "<Figure size 432x288 with 1 Axes>"
      ]
     },
     "metadata": {
      "needs_background": "light"
     },
     "output_type": "display_data"
    }
   ],
   "source": [
    "IMG2 =Alter_IMG(IMG,4,20,90);\n",
    "fig = plt.figure();\n",
    "ax1 = fig.add_subplot(121);\n",
    "ax1.imshow(IMG2, cmap=cm.Greys_r);"
   ]
  },
  {
   "cell_type": "markdown",
   "metadata": {},
   "source": [
    "Convertimos la matriz en vector y le aplicamos la función learn."
   ]
  },
  {
   "cell_type": "code",
   "execution_count": 26,
   "metadata": {},
   "outputs": [
    {
     "name": "stdout",
     "output_type": "stream",
     "text": [
      "2 loops needed.\n"
     ]
    }
   ],
   "source": [
    "IMG2_vec = np.array(IMG2).flatten();\n",
    "IMG2_recall =learn(IMG2_vec, Weights,80,10);\n",
    "print(IMG2_recall[2], \"loops needed.\");"
   ]
  },
  {
   "cell_type": "markdown",
   "metadata": {},
   "source": [
    "Ahora convertimos el vector en matriz y mostramos la imagen."
   ]
  },
  {
   "cell_type": "code",
   "execution_count": 27,
   "metadata": {},
   "outputs": [],
   "source": [
    "Recall=IMG2_recall[0].reshape(4,20);"
   ]
  },
  {
   "cell_type": "code",
   "execution_count": 28,
   "metadata": {},
   "outputs": [
    {
     "data": {
      "image/png": "[encoded data removed]",
      "text/plain": [
       "<Figure size 432x288 with 1 Axes>"
      ]
     },
     "metadata": {
      "needs_background": "light"
     },
     "output_type": "display_data"
    }
   ],
   "source": [
    "fig = plt.figure();\n",
    "ax1 = fig.add_subplot(121);\n",
    "ax1.imshow(Recall, cmap=cm.Greys_r);"
   ]
  },
  {
   "cell_type": "markdown",
   "metadata": {},
   "source": [
    "Nuevamente se logra reproducir el patrón inicial."
   ]
  },
  {
   "cell_type": "markdown",
   "metadata": {},
   "source": [
    "# Patrón inicial aleatorio"
   ]
  },
  {
   "cell_type": "markdown",
   "metadata": {},
   "source": [
    "Ahora usamos un patrón aleatorio."
   ]
  },
  {
   "cell_type": "code",
   "execution_count": 29,
   "metadata": {},
   "outputs": [],
   "source": [
    "IMG3 = np.random.randint(2, size=(4, 20));"
   ]
  },
  {
   "cell_type": "code",
   "execution_count": 30,
   "metadata": {},
   "outputs": [
    {
     "data": {
      "image/png": "[encoded data removed]",
      "text/plain": [
       "<Figure size 432x288 with 1 Axes>"
      ]
     },
     "metadata": {
      "needs_background": "light"
     },
     "output_type": "display_data"
    }
   ],
   "source": [
    "fig = plt.figure();\n",
    "ax1 = fig.add_subplot(121);\n",
    "ax1.imshow(IMG2, cmap=cm.Greys_r);"
   ]
  },
  {
   "cell_type": "code",
   "execution_count": 31,
   "metadata": {},
   "outputs": [
    {
     "name": "stdout",
     "output_type": "stream",
     "text": [
      "2 loops needed.\n"
     ]
    }
   ],
   "source": [
    "IMG3_vec = np.array(IMG3).flatten();\n",
    "IMG3_recall =learn(IMG3_vec, Weights,80,10);\n",
    "print(IMG3_recall[2], \"loops needed.\");"
   ]
  },
  {
   "cell_type": "markdown",
   "metadata": {},
   "source": [
    "Ahora convertimos el vector en matriz y mostramos la imagen."
   ]
  },
  {
   "cell_type": "code",
   "execution_count": 32,
   "metadata": {},
   "outputs": [],
   "source": [
    "Recall=IMG3_recall[0].reshape(4,20);"
   ]
  },
  {
   "cell_type": "code",
   "execution_count": 33,
   "metadata": {},
   "outputs": [
    {
     "data": {
      "image/png": "[encoded data removed]",
      "text/plain": [
       "<Figure size 432x288 with 1 Axes>"
      ]
     },
     "metadata": {
      "needs_background": "light"
     },
     "output_type": "display_data"
    }
   ],
   "source": [
    "fig = plt.figure();\n",
    "ax1 = fig.add_subplot(121);\n",
    "ax1.imshow(Recall, cmap=cm.Greys_r);"
   ]
  },
  {
   "cell_type": "markdown",
   "metadata": {},
   "source": [
    "En este caso aleatorio se encontró el patrón inverso."
   ]
  }
 ],
 "metadata": {
  "kernelspec": {
   "display_name": "Python 3",
   "language": "python",
   "name": "python3"
  },
  "language_info": {
   "codemirror_mode": {
    "name": "ipython",
    "version": 3
   },
   "file_extension": ".py",
   "mimetype": "text/x-python",
   "name": "python",
   "nbconvert_exporter": "python",
   "pygments_lexer": "ipython3",
   "version": "3.5.5"
  }
 },
 "nbformat": 4,
 "nbformat_minor": 2
}

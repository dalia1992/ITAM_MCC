{
 "cells": [
  {
   "cell_type": "markdown",
   "metadata": {},
   "source": [
    "# Eliminar Efecto de histéresis\n",
    "Dalia Camacho\n",
    "\n",
    "El propósito de esta tarea es modificar el MaxSelector para eliminar el efecto de histéresis. Para lograr esto creamos un MaxSelector con tres capas de neuronas. Para un input de $n$ estímulos, se tiene una primera capa $u^{(1)}$ (con $n$ neuronas), tal que el valor en cada neurona $u_i^{(1)}$ es el valor del estímulo externo $s_i$ más el valor de la neurona $v$.\n",
    "\\begin{equation}\n",
    "    u_i^{(1)}=s_i+v\n",
    "\\end{equation}\n",
    "\n",
    "En la segunda capa $u^{(2)}$ (con $n$ neuronas) se realiza el cálculo $u_i^{(2)}=f_3(u^{(u)}_i)$ para cada $i \\in \\{1\\dots n\\}$. Se tiene que\n",
    "\n",
    "\\begin{equation}\n",
    "u_i^{(2)}= f_3(u^{(u)}_i)= f_2(u_i)-\\frac{\\sum_{j\\neq i} f_2(u^{(1)}_j)}{\\sum_{j\\neq i}f_1(u^{(1)}_j)},\n",
    "\\end{equation}\n",
    "\n",
    "donde\n",
    "\n",
    "\\begin{equation}\n",
    "f_1(x)=\n",
    "\\begin{cases} \n",
    "      0 & x\\leq 0 \\\\\n",
    "     1 &  e.o.c.\n",
    "   \\end{cases}\n",
    "\\end{equation} \n",
    "\n",
    "y \n",
    "\n",
    "\\begin{equation}\n",
    "f_2(x)=\n",
    "\\begin{cases} \n",
    "      0 & x\\leq 0 \\\\\n",
    "     x &  e.o.c. \n",
    "   \\end{cases}.\n",
    "\\end{equation} \n",
    "\n",
    "En la neurona $v$ se realiza el cálculo $v=v+f_4(u^{(2)})$ donde $f_4$ está dada por:\n",
    "\n",
    "\\begin{equation}\n",
    "f_4(u)=\\begin{cases}\n",
    "0 & \\sum_{i=1}^n f_1(u) = 1\\\\\n",
    "-\\frac{\\sum_{i=1}^n f_1(u)}{n} & e.o.c\n",
    "\\end{cases}.\n",
    "\\end{equation}\n",
    "\n",
    "Por último el máximo está indicado por $f_1(u^{(2)}$."
   ]
  },
  {
   "cell_type": "markdown",
   "metadata": {},
   "source": [
    "Cargamos la librería numpy."
   ]
  },
  {
   "cell_type": "code",
   "execution_count": 1,
   "metadata": {},
   "outputs": [],
   "source": [
    "# Importar librerías numpy\n",
    "import numpy as np"
   ]
  },
  {
   "cell_type": "markdown",
   "metadata": {},
   "source": [
    "Definimos la función MaxSelector3capas así como las funciones auxiliares $f_i$ con $i \\in \\{1,2,3,4\\}$."
   ]
  },
  {
   "cell_type": "code",
   "execution_count": 2,
   "metadata": {},
   "outputs": [],
   "source": [
    "# Definimos f1\n",
    "def f1(vec):\n",
    "    return np.where(vec<=0,0.0,1.0)\n",
    "\n",
    "# Definimos f2\n",
    "def f2(vec):\n",
    "    return np.where(vec<=0,0,vec)\n",
    "\n",
    "# Definimos f3\n",
    "def f3(vec):\n",
    "    n     = np.size(vec)\n",
    "    sol   = np.zeros((n,1)) \n",
    "    f1vec = f1(vec)\n",
    "    f2vec = f2(vec)\n",
    "    for i in range(0,(n)):\n",
    "        sol[i] = f2vec[i] -(np.sum(f2vec)-f2vec[i])/(np.sum(f1vec)-f1vec[i])\n",
    "    return sol\n",
    "\n",
    "# Definimos f4\n",
    "def f4(vec):\n",
    "    if(np.sum(f1(vec))==1):\n",
    "        sol = 0\n",
    "    else:\n",
    "        sol = -np.sum(f1(vec))/np.size(vec)\n",
    "    return sol\n",
    "\n",
    "# Definimos la función que describe el comportamiento de las neuronas    \n",
    "def MaxSelector3capas(stimulus, time, delta):\n",
    "    n  = np.size(stimulus)\n",
    "    v  = np.zeros((n,1)) \n",
    "    v0 = v\n",
    "    for t in np.arange(0.0, time, delta):\n",
    "        u1 = stimulus + v\n",
    "        u2 = f3(u1)\n",
    "        v  = v+f4(u2)\n",
    "        \n",
    "    return f1(u2).T"
   ]
  },
  {
   "cell_type": "markdown",
   "metadata": {},
   "source": [
    "Probamos el MaxSelector con tres capas para un estímulo inicial."
   ]
  },
  {
   "cell_type": "code",
   "execution_count": 3,
   "metadata": {},
   "outputs": [],
   "source": [
    "# Definir parámetros del sistema a excepción del estímulo\n",
    "time  = 10\n",
    "delta = 0.05"
   ]
  },
  {
   "cell_type": "code",
   "execution_count": 4,
   "metadata": {},
   "outputs": [
    {
     "data": {
      "text/plain": [
       "array([[0., 1., 0., 0., 0., 0., 0., 0., 0., 0.]])"
      ]
     },
     "execution_count": 4,
     "metadata": {},
     "output_type": "execute_result"
    }
   ],
   "source": [
    "# Definir estímulo y probar MaxSelector\n",
    "stimulus =np.array([[0.0, 1.0, 0.0, 0.2, 0.0, 0.0, 0.0, 0.0, 0.0, 0.0]]).T\n",
    "MaxSelector3capas(stimulus, time, delta)"
   ]
  },
  {
   "cell_type": "code",
   "execution_count": 5,
   "metadata": {},
   "outputs": [
    {
     "data": {
      "text/plain": [
       "array([[0., 0., 0., 0., 0., 0., 0., 0., 1., 0.]])"
      ]
     },
     "execution_count": 5,
     "metadata": {},
     "output_type": "execute_result"
    }
   ],
   "source": [
    "# Definir estímulo y probar MaxSelector\n",
    "stimulus =np.array([[0.0, 0.0, 0.0, 0.2, 0.0, 0.0, 0.0, 0.0, 0.22, 0.0]]).T\n",
    "MaxSelector3capas(stimulus, time, delta)"
   ]
  },
  {
   "cell_type": "markdown",
   "metadata": {},
   "source": [
    "Ahora modificamos el código para incluir la posibilidad de un segundo estímulo. Para esto se agrega un lag que es el tiempo en el que ocurre en el segundo estímulo, considerando que el primer estímulo ocurre al tiempo $0$. Y se añade un segundo estímulo en las variables de entrada con lo que ahora tenemos:\n",
    "\\begin{equation}\n",
    "    u_i^{(1)}=\\begin{cases}\n",
    "    s_i^{(1)}+v, & tiempo < lag\\\\\n",
    "    s_i^{(1)}+s_i^{(2)}+v, & e.o.c.\n",
    "    \\end{cases},\n",
    "\\end{equation}\n",
    "\n",
    "donde ahora $s_i^{(1)}$ corresponde al primer estímulo y $s_i^{(2)}$ corresponde al segundo estímulo.\n"
   ]
  },
  {
   "cell_type": "code",
   "execution_count": 6,
   "metadata": {},
   "outputs": [],
   "source": [
    "def MaxSelector3capas_2_stim(stimulus,stimulus2, lag, time, delta):\n",
    "    n  = np.size(stimulus)\n",
    "    v  = np.zeros((n,1)) \n",
    "    v0 = v\n",
    "    for t in np.arange(0.0, time, delta):\n",
    "        if t<lag:\n",
    "            u1 = stimulus + v\n",
    "        else:\n",
    "            u1 = stimulus + stimulus2 + v\n",
    "        u2 = f3(u1)\n",
    "        v  = v+f4(u2)\n",
    "        \n",
    "    return f1(u2).T"
   ]
  },
  {
   "cell_type": "markdown",
   "metadata": {},
   "source": [
    "Probamos este nuevo MaxSelector con dos estímulos, primero con un estímulo nulo y un valor máximo en la cuarta entrada."
   ]
  },
  {
   "cell_type": "code",
   "execution_count": 7,
   "metadata": {},
   "outputs": [
    {
     "data": {
      "text/plain": [
       "array([[0., 0., 0., 1., 0., 0., 0., 0., 0., 0.]])"
      ]
     },
     "execution_count": 7,
     "metadata": {},
     "output_type": "execute_result"
    }
   ],
   "source": [
    "stimulus  = np.array([[0.0, 0.1, 0.0, 0.6, 0.0, 0.0, 0.0, 0.0, 0.0, 0.0]]).T\n",
    "stimulus2 = np.array([[0.0, 0.0, 0.0, 0.0, 0.0, 0.0, 0.0, 0.0, 0.0, 0.0]]).T\n",
    "lag       = 9.0\n",
    "MaxSelector3capas_2_stim(stimulus,stimulus2, lag, time, delta)"
   ]
  },
  {
   "cell_type": "markdown",
   "metadata": {},
   "source": [
    "Ahora agregamos un estímulo extra en la segunda entrada, tal que la suma de ambos estímulos es máxima en la segunda entrada."
   ]
  },
  {
   "cell_type": "code",
   "execution_count": 8,
   "metadata": {},
   "outputs": [
    {
     "data": {
      "text/plain": [
       "array([[0., 1., 0., 0., 0., 0., 0., 0., 0., 0.]])"
      ]
     },
     "execution_count": 8,
     "metadata": {},
     "output_type": "execute_result"
    }
   ],
   "source": [
    "stimulus2 = np.array([[0.0, 0.51, 0.0, 0.0, 0.0, 0.0, 0.0, 0.0, 0.0, 0.0]]).T\n",
    "lag       = 9.0\n",
    "MaxSelector3capas_2_stim(stimulus,stimulus2, lag, time, delta)"
   ]
  },
  {
   "cell_type": "markdown",
   "metadata": {},
   "source": [
    "Con este ejemplo podemos ver que se rompe el efecto de histéresis."
   ]
  }
 ],
 "metadata": {
  "kernelspec": {
   "display_name": "Python 3",
   "language": "python",
   "name": "python3"
  },
  "language_info": {
   "codemirror_mode": {
    "name": "ipython",
    "version": 3
   },
   "file_extension": ".py",
   "mimetype": "text/x-python",
   "name": "python",
   "nbconvert_exporter": "python",
   "pygments_lexer": "ipython3",
   "version": "3.5.5"
  }
 },
 "nbformat": 4,
 "nbformat_minor": 2
}
